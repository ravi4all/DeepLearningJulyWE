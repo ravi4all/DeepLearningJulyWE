{
 "cells": [
  {
   "cell_type": "code",
   "execution_count": 1,
   "metadata": {
    "collapsed": true
   },
   "outputs": [],
   "source": [
    "import copy, numpy as np"
   ]
  },
  {
   "cell_type": "code",
   "execution_count": 2,
   "metadata": {
    "collapsed": true
   },
   "outputs": [],
   "source": [
    "# compute sigmoid"
   ]
  },
  {
   "cell_type": "code",
   "execution_count": 3,
   "metadata": {
    "collapsed": true
   },
   "outputs": [],
   "source": [
    "# convert sigmoid derivative"
   ]
  },
  {
   "cell_type": "code",
   "execution_count": 4,
   "metadata": {
    "collapsed": true
   },
   "outputs": [],
   "source": [
    "# we have to create a lookup table that maps from an integer to its binary representation. \n",
    "# The binary representations will be our input and output data for each math problem we try to get\n",
    "# the network to solve. This lookup table will help us in converting from integers to bit \n",
    "# strings.\n",
    "\n",
    "# training dataset generation\n",
    "int2binary = {}\n",
    "\n",
    "# maximum length of the binary numbers we'll be adding.\n",
    "binary_dim = 8"
   ]
  },
  {
   "cell_type": "code",
   "execution_count": 5,
   "metadata": {
    "collapsed": true
   },
   "outputs": [],
   "source": [
    "# It computes the largest number that is possible to represent with the binary \n",
    "# length we chose\n",
    "largest_number = pow(2,binary_dim)\n",
    "\n",
    "# This is a lookup table that maps from an integer to its binary representation.\n",
    "binary = np.unpackbits(np.array([range(largest_number)],dtype=np.uint8).T,axis=1)\n",
    "\n",
    "for i in range(largest_number):\n",
    "    int2binary[i] = binary[i]"
   ]
  },
  {
   "cell_type": "code",
   "execution_count": 6,
   "metadata": {
    "collapsed": true
   },
   "outputs": [],
   "source": [
    "# input variables\n",
    "\n",
    "#  learning rate\n",
    "alpha = 0.1\n",
    "\n",
    "# We are adding two numbers together, so we'll be feeding in two-bit strings one character at the \n",
    "# time each. Thus, we need to have two inputs to the network (one for each of the numbers being added).\n",
    "input_dim = 2\n",
    "\n",
    "# This is the size of the hidden layer that will be storing our carry bit.\n",
    "hidden_dim = 16\n",
    "\n",
    "# we're only predicting the sum, which is one number. Thus, we only need one output\n",
    "output_dim = 1"
   ]
  },
  {
   "cell_type": "code",
   "execution_count": 7,
   "metadata": {
    "collapsed": true
   },
   "outputs": [],
   "source": [
    "# initialize neural network weights\n",
    "\n",
    "# create matrix of weights that connects our input layer and our hidden layer.\n",
    "# (2 x 16)\n",
    "\n",
    "\n",
    "# create matrix of weights that connects the hidden layer to the output layer.\n",
    "# (16 x 1)\n",
    "\n",
    "\n",
    "# create matrix of weights that connects the hidden layer in the previous time-step\n",
    "# to the hidden layer in the current timestep. It also connects the hidden layer in the\n",
    "# current timestep to the hidden layer in the next timestep. \n",
    "# It has the dimensionality of \"hidden_dim\" rows and \"hidden_dim\" columns. \n",
    "# (16 x 16).\n",
    "weight_h = 2*np.random.random((hidden_dim,hidden_dim))\n",
    "\n",
    "\n",
    "# store the weight updates that we would like to make for each of the weight matrices.\n",
    "# After we've accumulated several weight updates, we'll actually update the matrices.\n"
   ]
  },
  {
   "cell_type": "code",
   "execution_count": null,
   "metadata": {
    "collapsed": true
   },
   "outputs": [],
   "source": [
    "# training logic\n",
    "for j in range(10000):\n",
    "    \n",
    "    # generate a simple addition problem (a + b = c)\n",
    "    a_int = np.random.randint(largest_number/2) # int version\n",
    "    a = int2binary[a_int] # binary encoding\n",
    "\n",
    "    b_int = np.random.randint(largest_number/2) # int version\n",
    "    b = int2binary[b_int] # binary encoding\n",
    "\n",
    "    # true answer\n",
    "    c_int = a_int + b_int\n",
    "    c = int2binary[c_int]\n",
    "    \n",
    "    # where we'll store our guess (binary encoded)\n",
    "    d = np.zeros_like(c)\n",
    "\n",
    "    overallError = 0\n",
    "    \n",
    "    layer_2_deltas = list()\n",
    "    layer_1_values = list()\n",
    "    layer_1_values.append(np.zeros(hidden_dim))\n",
    "    \n",
    "    # moving along the positions in the binary encoding\n",
    "    \n",
    "        \n",
    "        # generate input and output\n",
    "        \n",
    "\n",
    "        # hidden layer (input ~+ prev_hidden)\n",
    "        \n",
    "\n",
    "        # output layer (new binary representation)\n",
    "        \n",
    "        # Backpropagation\n",
    "        # Start calculating error\n",
    "        \n",
    "    \n",
    "        # decode estimate so we can print it out\n",
    "        \n",
    "        \n",
    "        # store hidden layer so we can use it in the next timestep\n",
    "        \n",
    "    \n",
    "    # Iterate over binary_dim\n",
    "    \n",
    "        \n",
    "        # error at output layer\n",
    "        \n",
    "        # error at hidden layer\n",
    "        \n",
    "\n",
    "        # Update all your weights\n",
    "        \n",
    "\n",
    "    \n",
    "    # print out progress\n",
    "    if(j % 1000 == 0):\n",
    "        print(\"Error:\",overallError)\n",
    "        print(\"Pred:\",d)\n",
    "        print(\"True:\",c)\n",
    "        out = 0\n",
    "        for index,x in enumerate(reversed(d)):\n",
    "            out += x*pow(2,index)\n",
    "        print(str(a_int) + \" + \" + str(b_int) + \" = \" + str(out))\n",
    "        print(\"------------\")"
   ]
  }
 ],
 "metadata": {
  "kernelspec": {
   "display_name": "Python 3",
   "language": "python",
   "name": "python3"
  },
  "language_info": {
   "codemirror_mode": {
    "name": "ipython",
    "version": 3
   },
   "file_extension": ".py",
   "mimetype": "text/x-python",
   "name": "python",
   "nbconvert_exporter": "python",
   "pygments_lexer": "ipython3",
   "version": "3.5.4"
  }
 },
 "nbformat": 4,
 "nbformat_minor": 2
}
